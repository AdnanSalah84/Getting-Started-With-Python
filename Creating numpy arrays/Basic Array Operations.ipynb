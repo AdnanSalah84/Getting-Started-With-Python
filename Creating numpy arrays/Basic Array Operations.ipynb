{
 "cells": [
  {
   "cell_type": "code",
   "execution_count": 3,
   "metadata": {},
   "outputs": [],
   "source": [
    "import numpy as np"
   ]
  },
  {
   "cell_type": "markdown",
   "metadata": {},
   "source": [
    "### Basic Operations with Scalars"
   ]
  },
  {
   "cell_type": "code",
   "execution_count": 10,
   "metadata": {},
   "outputs": [
    {
     "name": "stdout",
     "output_type": "stream",
     "text": [
      "[0 1 2 3 4 5 6 7 8 9]\n",
      "[ 3  4  5  6  7  8  9 10 11 12]\n",
      "[-3 -2 -1  0  1  2  3  4  5  6]\n",
      "[ 0  3  6  9 12 15 18 21 24 27]\n",
      "[0.         0.33333333 0.66666667 1.         1.33333333 1.66666667\n",
      " 2.         2.33333333 2.66666667 3.        ]\n",
      "[0 0 0 1 1 1 2 2 2 3]\n",
      "[ 0  1  4  9 16 25 36 49 64 81]\n",
      "[0 1 0 1 0 1 0 1 0 1]\n",
      "[False False False False False  True  True  True  True  True]\n",
      "[ True  True  True  True  True  True  True False False False]\n"
     ]
    }
   ],
   "source": [
    "nums = np.arange(0,10)\n",
    "print(nums)\n",
    "\n",
    "print(nums + 3)\n",
    "print(nums - 3)\n",
    "print(nums * 3)\n",
    "print(nums / 3)\n",
    "print(nums // 3)\n",
    "print(nums ** 2)\n",
    "print(nums % 2)\n",
    "\n",
    "print(nums > 4)\n",
    "print(nums < 7)"
   ]
  },
  {
   "cell_type": "markdown",
   "metadata": {},
   "source": [
    "### Basic Operations Between Arrays"
   ]
  },
  {
   "cell_type": "code",
   "execution_count": 11,
   "metadata": {},
   "outputs": [
    {
     "name": "stdout",
     "output_type": "stream",
     "text": [
      "[0 1 2 3 4 5 6 7 8 9]\n",
      "[10 11 12 13 14 15 16 17 18 19]\n",
      "[10 12 14 16 18 20 22 24 26 28]\n",
      "[-10 -10 -10 -10 -10 -10 -10 -10 -10 -10]\n",
      "[  0  11  24  39  56  75  96 119 144 171]\n",
      "[0.         0.09090909 0.16666667 0.23076923 0.28571429 0.33333333\n",
      " 0.375      0.41176471 0.44444444 0.47368421]\n",
      "[0 0 0 0 0 0 0 0 0 0]\n",
      "[          0           1        4096     1594323   268435456   452807053\n",
      "  -683606016 -2094633337           0  -400556711]\n",
      "[0 1 2 3 4 5 6 7 8 9]\n",
      "[False False False False False False False False False False]\n",
      "[ True  True  True  True  True  True  True  True  True  True]\n"
     ]
    }
   ],
   "source": [
    "nums = np.arange(0,10)\n",
    "print(nums)\n",
    "\n",
    "nums2 = np.arange(10,20)\n",
    "print(nums2)\n",
    "\n",
    "print(nums + nums2)\n",
    "print(nums - nums2)\n",
    "print(nums * nums2)\n",
    "print(nums / nums2)\n",
    "print(nums // nums2)\n",
    "print(nums ** nums2)\n",
    "print(nums % nums2)\n",
    "\n",
    "print(nums > nums2)\n",
    "print(nums < nums2)"
   ]
  },
  {
   "cell_type": "markdown",
   "metadata": {},
   "source": [
    "### Dot Product"
   ]
  },
  {
   "cell_type": "code",
   "execution_count": 6,
   "metadata": {},
   "outputs": [
    {
     "name": "stdout",
     "output_type": "stream",
     "text": [
      "[1 2 3]\n",
      "[3 4 5]\n",
      "26\n",
      "[[1 2 3]\n",
      " [4 5 6]]\n",
      "[[7 8]\n",
      " [9 0]\n",
      " [1 2]]\n"
     ]
    },
    {
     "data": {
      "text/plain": [
       "array([[28, 14],\n",
       "       [79, 44]])"
      ]
     },
     "execution_count": 6,
     "metadata": {},
     "output_type": "execute_result"
    }
   ],
   "source": [
    "nums = np.array([1,2,3])\n",
    "print(nums)\n",
    "\n",
    "nums2 = np.array([3,4,5])\n",
    "print(nums2)\n",
    "\n",
    "print(nums.dot(nums2))\n",
    "\n",
    "nums = np.array([\n",
    "    [1,2,3], \n",
    "    [4,5,6]\n",
    "])\n",
    "print(nums)\n",
    "\n",
    "nums2 = np.array([\n",
    "    [7,8],\n",
    "    [9,0],\n",
    "    [1,2]\n",
    "])\n",
    "print(nums2)\n",
    "\n",
    "nums.dot(nums2)"
   ]
  },
  {
   "cell_type": "markdown",
   "metadata": {},
   "source": [
    "### Basic Array Analysis"
   ]
  },
  {
   "cell_type": "code",
   "execution_count": 17,
   "metadata": {},
   "outputs": [
    {
     "name": "stdout",
     "output_type": "stream",
     "text": [
      "[[1 2 3]\n",
      " [4 5 6]]\n",
      "[1 4]\n",
      "[3 6]\n",
      "[ 6 15]\n"
     ]
    }
   ],
   "source": [
    "nums = np.array([\n",
    "    [1,2,3], \n",
    "    [4,5,6]\n",
    "])\n",
    "print(nums)\n",
    "\n",
    "print(nums.min(axis=1))\n",
    "print(nums.max(axis=0))\n",
    "print(nums.sum(axis=1))"
   ]
  },
  {
   "cell_type": "code",
   "execution_count": null,
   "metadata": {},
   "outputs": [],
   "source": []
  }
 ],
 "metadata": {
  "kernelspec": {
   "display_name": "Python 3",
   "language": "python",
   "name": "python3"
  },
  "language_info": {
   "codemirror_mode": {
    "name": "ipython",
    "version": 3
   },
   "file_extension": ".py",
   "mimetype": "text/x-python",
   "name": "python",
   "nbconvert_exporter": "python",
   "pygments_lexer": "ipython3",
   "version": "3.7.1"
  }
 },
 "nbformat": 4,
 "nbformat_minor": 2
}
