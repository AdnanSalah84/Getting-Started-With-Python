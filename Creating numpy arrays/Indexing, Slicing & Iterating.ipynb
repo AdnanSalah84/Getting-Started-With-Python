{
 "cells": [
  {
   "cell_type": "code",
   "execution_count": 1,
   "metadata": {},
   "outputs": [],
   "source": [
    "import numpy as np"
   ]
  },
  {
   "cell_type": "markdown",
   "metadata": {},
   "source": [
    "### Indexing and Slicing"
   ]
  },
  {
   "cell_type": "code",
   "execution_count": 5,
   "metadata": {},
   "outputs": [
    {
     "name": "stdout",
     "output_type": "stream",
     "text": [
      "[3 2 6 4 1 8 9 5 6 1]\n",
      "2\n",
      "[4 1 8 9 5 6 1]\n",
      "[3 2 6]\n",
      "[4 1 8]\n",
      "[3 2 6 4 1 8 9 5 6 1]\n",
      "6\n",
      "[3 6 1 9 6]\n",
      "[2 4 8 5 1]\n"
     ]
    }
   ],
   "source": [
    "nums = np.array([3,2,6,4,1,8,9,5,6,1])\n",
    "\n",
    "print(nums)\n",
    "\n",
    "print(nums[1])\n",
    "\n",
    "print(nums[3:])\n",
    "print(nums[:3])\n",
    "print(nums[3:6])\n",
    "print(nums[:])\n",
    "print(nums[-2])\n",
    "print(nums[::2])\n",
    "print(nums[1::2])\n",
    "print(nums[::-1])"
   ]
  },
  {
   "cell_type": "markdown",
   "metadata": {},
   "source": [
    "### Iterate"
   ]
  },
  {
   "cell_type": "code",
   "execution_count": 9,
   "metadata": {},
   "outputs": [
    {
     "name": "stdout",
     "output_type": "stream",
     "text": [
      "38\n",
      "25\n",
      "34\n",
      "74\n",
      "42\n",
      "47\n",
      "86\n",
      "72\n",
      "84\n",
      "70\n",
      "67\n",
      "43\n",
      "42\n",
      "21\n",
      "91\n",
      "85\n",
      "14\n",
      "88\n",
      "57\n",
      "31\n",
      "83\n",
      "98\n",
      "80\n",
      "22\n",
      "10\n",
      "30\n",
      "33\n",
      "10\n",
      "83\n",
      "78\n",
      "1\n",
      "4\n",
      "21\n",
      "39\n",
      "4\n",
      "99\n",
      "37\n",
      "7\n",
      "59\n",
      "36\n",
      "55\n",
      "27\n",
      "12\n",
      "98\n",
      "15\n",
      "67\n",
      "8\n",
      "70\n",
      "1\n",
      "15\n",
      "57\n",
      "97\n",
      "13\n",
      "25\n",
      "43\n",
      "80\n",
      "62\n",
      "26\n",
      "35\n",
      "74\n",
      "83\n",
      "89\n",
      "72\n",
      "99\n",
      "79\n",
      "49\n",
      "22\n",
      "49\n",
      "97\n",
      "18\n",
      "2\n",
      "73\n",
      "97\n",
      "4\n",
      "35\n",
      "74\n",
      "7\n",
      "23\n",
      "19\n",
      "95\n",
      "86\n",
      "24\n",
      "54\n",
      "61\n",
      "50\n",
      "32\n",
      "15\n",
      "26\n",
      "16\n",
      "63\n",
      "42\n",
      "65\n",
      "46\n",
      "83\n",
      "59\n",
      "48\n",
      "83\n",
      "53\n",
      "81\n",
      "12\n"
     ]
    }
   ],
   "source": [
    "nums = np.random.randint(1,100, size = 100)\n",
    "\n",
    "for num in nums:\n",
    "    print(num)"
   ]
  },
  {
   "cell_type": "code",
   "execution_count": 11,
   "metadata": {},
   "outputs": [
    {
     "name": "stdout",
     "output_type": "stream",
     "text": [
      "(0, 0) 1\n",
      "(0, 1) 2\n",
      "(0, 2) 3\n",
      "(0, 3) 4\n",
      "(0, 4) 5\n",
      "(1, 0) 5\n",
      "(1, 1) 4\n",
      "(1, 2) 3\n",
      "(1, 3) 2\n",
      "(1, 4) 1\n",
      "(2, 0) 9\n",
      "(2, 1) 8\n",
      "(2, 2) 6\n",
      "(2, 3) 5\n",
      "(2, 4) 3\n"
     ]
    }
   ],
   "source": [
    "nums = np.array([\n",
    "    [1,2,3,4,5],\n",
    "    [5,4,3,2,1],\n",
    "    [9,8,6,5,3]\n",
    "])\n",
    "\n",
    "for index, num in np.ndenumerate(nums):\n",
    "    print(index, num)"
   ]
  },
  {
   "cell_type": "code",
   "execution_count": null,
   "metadata": {},
   "outputs": [],
   "source": []
  }
 ],
 "metadata": {
  "kernelspec": {
   "display_name": "Python 3",
   "language": "python",
   "name": "python3"
  },
  "language_info": {
   "codemirror_mode": {
    "name": "ipython",
    "version": 3
   },
   "file_extension": ".py",
   "mimetype": "text/x-python",
   "name": "python",
   "nbconvert_exporter": "python",
   "pygments_lexer": "ipython3",
   "version": "3.7.1"
  }
 },
 "nbformat": 4,
 "nbformat_minor": 2
}
