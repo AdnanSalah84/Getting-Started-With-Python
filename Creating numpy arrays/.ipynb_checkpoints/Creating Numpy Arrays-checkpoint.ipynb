{
 "cells": [
  {
   "cell_type": "code",
   "execution_count": 39,
   "metadata": {},
   "outputs": [],
   "source": [
    "import numpy as np\n",
    "import matplotlib.pyplot as plt"
   ]
  },
  {
   "cell_type": "markdown",
   "metadata": {},
   "source": [
    "### Example of One Dimensional Array (Vector)"
   ]
  },
  {
   "cell_type": "code",
   "execution_count": 16,
   "metadata": {},
   "outputs": [
    {
     "name": "stdout",
     "output_type": "stream",
     "text": [
      "[1 2 3 4 5]\n",
      "(5,)\n",
      "1\n",
      "5\n"
     ]
    }
   ],
   "source": [
    "nums = np.array([1,2,3,4,5])\n",
    "\n",
    "print(nums)\n",
    "print(nums.shape)\n",
    "print(nums.ndim)\n",
    "print(nums.size)"
   ]
  },
  {
   "cell_type": "markdown",
   "metadata": {},
   "source": [
    "### Example of Two Dimensional Array (Matrix)"
   ]
  },
  {
   "cell_type": "code",
   "execution_count": 17,
   "metadata": {},
   "outputs": [
    {
     "name": "stdout",
     "output_type": "stream",
     "text": [
      "[[ 1  2  3  4  5]\n",
      " [ 6  7  8  9 10]]\n",
      "(2, 5)\n",
      "2\n",
      "10\n"
     ]
    }
   ],
   "source": [
    "import numpy as np\n",
    "\n",
    "nums = np.array([[1,2,3,4,5],\n",
    "                [6,7,8,9,10]])\n",
    "\n",
    "print(nums)\n",
    "print(nums.shape)\n",
    "print(nums.ndim)\n",
    "print(nums.size)"
   ]
  },
  {
   "cell_type": "markdown",
   "metadata": {},
   "source": [
    "### Creating Prepopulated Array"
   ]
  },
  {
   "cell_type": "code",
   "execution_count": 20,
   "metadata": {},
   "outputs": [
    {
     "name": "stdout",
     "output_type": "stream",
     "text": [
      "[0 2 4 6 8]\n"
     ]
    }
   ],
   "source": [
    "nums = np.arange(0, 10, step=2)\n",
    "print(nums)"
   ]
  },
  {
   "cell_type": "code",
   "execution_count": 24,
   "metadata": {},
   "outputs": [
    {
     "name": "stdout",
     "output_type": "stream",
     "text": [
      "[0.         0.55555556 1.11111111 1.66666667 2.22222222 2.77777778\n",
      " 3.33333333 3.88888889 4.44444444 5.        ]\n"
     ]
    }
   ],
   "source": [
    "nums = np.linspace(0, 5, num=10)\n",
    "print(nums)"
   ]
  },
  {
   "cell_type": "code",
   "execution_count": 33,
   "metadata": {},
   "outputs": [
    {
     "name": "stdout",
     "output_type": "stream",
     "text": [
      "[1 1 1 1 1 1 1 1 1 1]\n"
     ]
    }
   ],
   "source": [
    "nums = np.ones(10, dtype=int)\n",
    "print(nums)"
   ]
  },
  {
   "cell_type": "code",
   "execution_count": 29,
   "metadata": {},
   "outputs": [
    {
     "name": "stdout",
     "output_type": "stream",
     "text": [
      "[[0. 0. 0. 0. 0.]\n",
      " [0. 0. 0. 0. 0.]\n",
      " [0. 0. 0. 0. 0.]\n",
      " [0. 0. 0. 0. 0.]\n",
      " [0. 0. 0. 0. 0.]]\n"
     ]
    }
   ],
   "source": [
    "nums = np.zeros((5,5))\n",
    "print(nums)"
   ]
  },
  {
   "cell_type": "code",
   "execution_count": 32,
   "metadata": {},
   "outputs": [
    {
     "name": "stdout",
     "output_type": "stream",
     "text": [
      "[6. 6. 6. 6.]\n"
     ]
    }
   ],
   "source": [
    "nums = np.full(4,6, dtype=float)\n",
    "print(nums)"
   ]
  },
  {
   "cell_type": "code",
   "execution_count": 43,
   "metadata": {},
   "outputs": [
    {
     "name": "stdout",
     "output_type": "stream",
     "text": [
      "[0.15272986 0.26130436 0.13609371 0.80309224 0.53213174 0.47699074\n",
      " 0.19986482 0.87858705 0.14364538 0.21994845 0.09863785 0.50449255\n",
      " 0.25793792 0.52433941 0.01836015 0.40516179 0.55954721 0.7985285\n",
      " 0.58573086 0.12411203 0.25789238 0.92436369 0.55045056 0.56339496\n",
      " 0.43790869 0.79844449 0.21785797 0.19862106 0.20636998 0.92754039\n",
      " 0.32717587 0.18275664 0.40874925 0.11589764 0.87588682 0.26569589\n",
      " 0.97327971 0.05982952 0.34325257 0.84097952 0.54825646 0.52846343\n",
      " 0.19016152 0.77718447 0.2837142  0.46986583 0.14401234 0.83669464\n",
      " 0.24163556 0.37625352 0.29614834 0.11555391 0.67923938 0.75350433\n",
      " 0.45270181 0.94023753 0.09418784 0.24319386 0.97127722 0.9498305\n",
      " 0.13080773 0.41480307 0.30823783 0.66030305 0.19316284 0.19720338\n",
      " 0.174123   0.26390057 0.18573054 0.70416742 0.83452466 0.71317831\n",
      " 0.15842868 0.64661086 0.53146037 0.87827231 0.14823276 0.58904971\n",
      " 0.58934849 0.70261755 0.39671223 0.72796719 0.72256621 0.14747168\n",
      " 0.03265823 0.10451845 0.28453805 0.77664159 0.61148047 0.66099469\n",
      " 0.27446981 0.06435523 0.26651308 0.06228211 0.0625046  0.45702074\n",
      " 0.15210935 0.05206845 0.03014817 0.1354551 ]\n"
     ]
    },
    {
     "data": {
      "image/png": "[encoded data removed]",
      "text/plain": [
       "<Figure size 432x288 with 1 Axes>"
      ]
     },
     "metadata": {
      "needs_background": "light"
     },
     "output_type": "display_data"
    }
   ],
   "source": [
    "nums = np.random.rand(100)\n",
    "print(nums)\n",
    "\n",
    "fig, plot = plt.subplots()\n",
    "\n",
    "plot.hist(nums)\n",
    "plt.show() "
   ]
  },
  {
   "cell_type": "code",
   "execution_count": 42,
   "metadata": {},
   "outputs": [
    {
     "name": "stdout",
     "output_type": "stream",
     "text": [
      "[ 0.43305227  1.40861667 -0.49954533  1.66204631  0.18601968 -1.26691149\n",
      "  0.69236415 -0.92268614 -0.7203626  -0.91673752  0.43285327 -0.16249562\n",
      " -0.89601829 -1.14423649 -1.45130059  0.75864837 -1.1647243   0.87584789\n",
      "  2.0490186   1.0237591  -0.64552388 -0.20790564  1.01704913  0.18740149\n",
      "  0.83834637 -0.28780054 -0.65496028  0.30932554  1.07110143  0.50699636\n",
      " -0.97177875 -0.71343815 -0.90705834 -0.45801281  0.85785462 -0.63430225\n",
      "  0.2255388   0.54076907 -1.91748917 -1.09951608 -0.83166266 -0.43575896\n",
      "  0.51552265  1.05762825 -0.53430296  0.50085815  0.54101529  0.5643179\n",
      " -0.24679557  0.64515716  2.31128434  0.76919143  0.43801586 -0.15512339\n",
      " -0.50103302 -2.25240581 -0.72012971 -0.39873784 -0.87831031  0.51206491\n",
      " -1.34089074  0.04785286  0.16599069  0.60489214 -1.6533643  -1.64265458\n",
      " -1.50348885  0.37761315 -0.97452373  0.79880645 -0.93706754  0.59280715\n",
      " -0.00693643 -0.57208466  1.26093267  1.97296827 -1.24262501  0.21234602\n",
      " -1.07275553 -0.22297147  0.56510118 -0.36572967  0.2986115  -0.78920202\n",
      "  0.36097302  0.25711476 -0.5071764   0.15411732  0.67803155 -0.54025424\n",
      " -0.92676872  1.70472718 -1.10097375  1.11994098  1.06140546  0.52982391\n",
      " -0.8985346  -1.96578097 -0.58255972 -1.38491498]\n"
     ]
    },
    {
     "data": {
      "image/png": "[encoded data removed]",
      "text/plain": [
       "<Figure size 432x288 with 1 Axes>"
      ]
     },
     "metadata": {
      "needs_background": "light"
     },
     "output_type": "display_data"
    }
   ],
   "source": [
    "nums = np.random.randn(100)\n",
    "print(nums)\n",
    "\n",
    "fig, plot = plt.subplots()\n",
    "\n",
    "plot.hist(nums)\n",
    "plt.show() \n"
   ]
  },
  {
   "cell_type": "code",
   "execution_count": 44,
   "metadata": {},
   "outputs": [
    {
     "name": "stdout",
     "output_type": "stream",
     "text": [
      "[27 32 61 55 46 98 19 25 36 69 95 79 94 28  8 41 79 89 36  7 95 78 10 17\n",
      " 58 93 84  3 12 31 21 28 65 56  9 58  2 12 73 93 29 10 56 99 39  3  4 42\n",
      " 30 60 44 87  1 41 23 20 97 55  2  7 55 92 13 16 77 70 19  5 20 84 87  8\n",
      " 82 70  5 62  5 39 72 77 72  9 83 73 56 37 20 20 88 45 17  9 87 48 10 12\n",
      " 31 93 22 68 18 31 63 38  1 65  6 62 35  7 18 25 51 47 25 12 81 51 51 24\n",
      " 70 47 67 16 25 26 14  7 63 35 80 96 37 91 16 71 63 61 45 69 20 62 93  3\n",
      " 65 74 96 68 77 26 42 70 92 94 62 94 82 67 40 71 92 28 39 34 63 47 81 55\n",
      " 83 83 69 33 13 92 46 97 62 21 48 15 60 28 87 39 85 89 78 77 53 49 43 96\n",
      "  9 79  4 17 45 18 28 86]\n"
     ]
    }
   ],
   "source": [
    "nums = np.random.randint(0, 100, size=200)\n",
    "print(nums)"
   ]
  },
  {
   "cell_type": "code",
   "execution_count": 46,
   "metadata": {},
   "outputs": [
    {
     "name": "stdout",
     "output_type": "stream",
     "text": [
      "[[1. 0. 0. 0. 0. 0.]\n",
      " [0. 1. 0. 0. 0. 0.]\n",
      " [0. 0. 1. 0. 0. 0.]\n",
      " [0. 0. 0. 1. 0. 0.]\n",
      " [0. 0. 0. 0. 1. 0.]\n",
      " [0. 0. 0. 0. 0. 1.]]\n"
     ]
    }
   ],
   "source": [
    "nums = np.eye(6)\n",
    "print(nums)"
   ]
  },
  {
   "cell_type": "code",
   "execution_count": null,
   "metadata": {},
   "outputs": [],
   "source": []
  }
 ],
 "metadata": {
  "kernelspec": {
   "display_name": "Python 3",
   "language": "python",
   "name": "python3"
  },
  "language_info": {
   "codemirror_mode": {
    "name": "ipython",
    "version": 3
   },
   "file_extension": ".py",
   "mimetype": "text/x-python",
   "name": "python",
   "nbconvert_exporter": "python",
   "pygments_lexer": "ipython3",
   "version": "3.7.1"
  }
 },
 "nbformat": 4,
 "nbformat_minor": 2
}
