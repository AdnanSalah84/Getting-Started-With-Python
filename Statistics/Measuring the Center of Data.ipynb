{
 "cells": [
  {
   "cell_type": "code",
   "execution_count": 23,
   "metadata": {},
   "outputs": [],
   "source": [
    "import numpy as np\n",
    "from scipy import stats\n",
    "import statistics as stats2"
   ]
  },
  {
   "cell_type": "code",
   "execution_count": 18,
   "metadata": {},
   "outputs": [
    {
     "name": "stdout",
     "output_type": "stream",
     "text": [
      "49.5\n",
      "49.5\n"
     ]
    }
   ],
   "source": [
    "population = np.arange(0,100)\n",
    "\n",
    "population_mean = np.mean(population)\n",
    "population_median = np.median(population)\n",
    "\n",
    "print(population_mean)\n",
    "print(population_median)"
   ]
  },
  {
   "cell_type": "code",
   "execution_count": 21,
   "metadata": {},
   "outputs": [
    {
     "name": "stdout",
     "output_type": "stream",
     "text": [
      "49.15\n",
      "54.5\n"
     ]
    }
   ],
   "source": [
    "sample = np.random.choice(population, size=20)\n",
    "\n",
    "sample_mean = np.mean(sample)\n",
    "sample_median = np.median(sample)\n",
    "\n",
    "print(sample_mean)\n",
    "print(sample_median)"
   ]
  },
  {
   "cell_type": "code",
   "execution_count": 22,
   "metadata": {},
   "outputs": [
    {
     "name": "stdout",
     "output_type": "stream",
     "text": [
      "17.285714285714285\n",
      "4.0\n"
     ]
    }
   ],
   "source": [
    "population = np.array([1,2,3,4,5,6,100])\n",
    "\n",
    "\n",
    "print(np.mean(population))\n",
    "print(np.median(population))"
   ]
  },
  {
   "cell_type": "code",
   "execution_count": 27,
   "metadata": {},
   "outputs": [
    {
     "name": "stdout",
     "output_type": "stream",
     "text": [
      "ModeResult(mode=array([2]), count=array([4]))\n",
      "2\n"
     ]
    }
   ],
   "source": [
    "population = np.array([1,2,3,4,2,7,1,2,5,2])\n",
    "\n",
    "print(stats.mode(population))\n",
    "print(stats2.mode(population))"
   ]
  },
  {
   "cell_type": "code",
   "execution_count": null,
   "metadata": {},
   "outputs": [],
   "source": []
  }
 ],
 "metadata": {
  "kernelspec": {
   "display_name": "Python 3",
   "language": "python",
   "name": "python3"
  },
  "language_info": {
   "codemirror_mode": {
    "name": "ipython",
    "version": 3
   },
   "file_extension": ".py",
   "mimetype": "text/x-python",
   "name": "python",
   "nbconvert_exporter": "python",
   "pygments_lexer": "ipython3",
   "version": "3.7.1"
  }
 },
 "nbformat": 4,
 "nbformat_minor": 2
}
