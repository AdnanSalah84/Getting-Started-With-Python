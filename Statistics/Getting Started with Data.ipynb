{
 "cells": [
  {
   "cell_type": "code",
   "execution_count": 1,
   "metadata": {},
   "outputs": [
    {
     "name": "stdout",
     "output_type": "stream",
     "text": [
      "[86 58 46 81 14 67 52 74 84 14 10 18 98 25 37 40 12 59 91 81  8 69 44 96\n",
      " 35 25 37 51 87 66 77 50 14 18 89 89 79 44 80 67 31 80 71  3  1 36 42 34\n",
      " 60 28]\n"
     ]
    }
   ],
   "source": [
    "import numpy as np\n",
    "\n",
    "nums = np.arange(0, 100)\n",
    "\n",
    "sample_nums = np.random.choice(nums, size=20)\n",
    "\n",
    "print(sample_nums)"
   ]
  },
  {
   "cell_type": "code",
   "execution_count": null,
   "metadata": {},
   "outputs": [],
   "source": []
  }
 ],
 "metadata": {
  "kernelspec": {
   "display_name": "Python 3",
   "language": "python",
   "name": "python3"
  },
  "language_info": {
   "codemirror_mode": {
    "name": "ipython",
    "version": 3
   },
   "file_extension": ".py",
   "mimetype": "text/x-python",
   "name": "python",
   "nbconvert_exporter": "python",
   "pygments_lexer": "ipython3",
   "version": "3.7.1"
  }
 },
 "nbformat": 4,
 "nbformat_minor": 2
}
