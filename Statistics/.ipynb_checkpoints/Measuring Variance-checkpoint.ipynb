{
 "cells": [
  {
   "cell_type": "code",
   "execution_count": 35,
   "metadata": {},
   "outputs": [],
   "source": [
    "import numpy as np\n",
    "import statistics as stats\n",
    "from scipy import stats as stats2\n",
    "import matplotlib.pyplot as plt"
   ]
  },
  {
   "cell_type": "code",
   "execution_count": 19,
   "metadata": {},
   "outputs": [
    {
     "name": "stdout",
     "output_type": "stream",
     "text": [
      "2\n",
      "5.196152422706632\n",
      "5.744562646538029\n"
     ]
    }
   ],
   "source": [
    "# population = np.arange(0, 100)\n",
    "\n",
    "population = np.array([28,29,30,31,32])\n",
    "population1 = np.array([17,15,23,7,9,13])\n",
    "\n",
    "population_variance = stats.pvariance(population)\n",
    "population_stdev = stats.pstdev(population1)\n",
    "\n",
    "sample_variance = stats.variance(population)\n",
    "sample_stdev = stats.stdev(population1)\n",
    "\n",
    "print(population_variance)\n",
    "print(population_stdev)\n",
    "#print(sample_stdev)"
   ]
  },
  {
   "cell_type": "code",
   "execution_count": 24,
   "metadata": {},
   "outputs": [
    {
     "name": "stdout",
     "output_type": "stream",
     "text": [
      "2.0\n",
      "4.0\n"
     ]
    }
   ],
   "source": [
    "population = np.array([1,2,3,4,5])\n",
    "\n",
    "percentile_25 = np.percentile(population, 25)\n",
    "percentile_75 = np.percentile(population, 75)\n",
    "\n",
    "print(percentile_25)\n",
    "print(percentile_75)"
   ]
  },
  {
   "cell_type": "code",
   "execution_count": 31,
   "metadata": {},
   "outputs": [
    {
     "name": "stdout",
     "output_type": "stream",
     "text": [
      "[19 91 61 88 90 86 42 88  3 16 46  1 17 42 83 62 54 64 92 21 74 96 35 33\n",
      " 94 61  4 19 15  7 53 56 88 28 45 34 59 34 32 33 15 98 66 53 38 59 32 45\n",
      " 48 41]\n",
      "97\n",
      "33.5\n"
     ]
    }
   ],
   "source": [
    "population = np.random.randint(0,100,size=50)\n",
    "\n",
    "print(population)\n",
    "print(np.ptp(population))\n",
    "print(stats2.iqr(population))"
   ]
  },
  {
   "cell_type": "code",
   "execution_count": 36,
   "metadata": {},
   "outputs": [
    {
     "name": "stdout",
     "output_type": "stream",
     "text": [
      "-0.5587199319304019\n"
     ]
    },
    {
     "data": {
      "image/png": "[encoded data removed]",
      "text/plain": [
       "<Figure size 432x288 with 1 Axes>"
      ]
     },
     "metadata": {
      "needs_background": "light"
     },
     "output_type": "display_data"
    }
   ],
   "source": [
    "nums = np.concatenate([\n",
    "    np.random.randint((x-1)*10, x*10, size=x*100) for x in np.arange(10,0,-1)\n",
    "])\n",
    "\n",
    "print(stats2.skew(nums))\n",
    "plt.hist(nums, bins=100)\n",
    "plt.show()"
   ]
  },
  {
   "cell_type": "code",
   "execution_count": null,
   "metadata": {},
   "outputs": [],
   "source": []
  }
 ],
 "metadata": {
  "kernelspec": {
   "display_name": "Python 3",
   "language": "python",
   "name": "python3"
  },
  "language_info": {
   "codemirror_mode": {
    "name": "ipython",
    "version": 3
   },
   "file_extension": ".py",
   "mimetype": "text/x-python",
   "name": "python",
   "nbconvert_exporter": "python",
   "pygments_lexer": "ipython3",
   "version": "3.7.1"
  }
 },
 "nbformat": 4,
 "nbformat_minor": 2
}
